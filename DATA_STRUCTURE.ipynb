{
  "nbformat": 4,
  "nbformat_minor": 0,
  "metadata": {
    "colab": {
      "provenance": []
    },
    "kernelspec": {
      "name": "python3",
      "display_name": "Python 3"
    },
    "language_info": {
      "name": "python"
    }
  },
  "cells": [
    {
      "cell_type": "markdown",
      "source": [
        "# THEORY QUESTIONS\n"
      ],
      "metadata": {
        "id": "UxXyUTW9yJ5x"
      }
    },
    {
      "cell_type": "markdown",
      "source": [
        "1.What are data structures, and why are they important ?\n",
        "\n",
        "Ans . A data structure is a way of organizing and storing data in a computer so\n",
        "     that it can be accessed and used efficiently. It refers to the logical or mathematical representation of data, as well as the implementation in a computer program.\n",
        "\n",
        "2 . Explain the difference between mutable and immutable data types with examples ?\n",
        "\n",
        "Ans .In programming, especially in Python, data types are categorized as mutable or immutable based on whether their values can be changed after creation. Mutable data types allow modifications to their contents without changing their identity, meaning their memory address remains the same even after altering their values. Common examples of mutable types include list, dict, set, and bytearray. For instance, appending an element to a list modifies it in place without changing its memory address. On the other hand, immutable data types do not allow in-place modification. Any attempt to alter their value results in the creation of a new object with a different memory address. Examples of immutable types include int, float, str, tuple, frozenset, and bytes. For example, concatenating a string creates a new string object rather than modifying the original one. The key difference lies in memory behavior: mutable types maintain the same address during modifications, while immutable types generate a new object for every change. This distinction is essential for efficient memory management, avoiding unintended side effects in functions, and ensuring compatibility with hash-based structures like dictionary keys and set elements.\n",
        "\n",
        "\n",
        "\n",
        "\n",
        "\n",
        "\n",
        "\n",
        "\n",
        "\n",
        "\n",
        "\n",
        "\n",
        "\n",
        "\n",
        "\n",
        "\n",
        "\n",
        "\n",
        "      \n",
        "      \n",
        "3.What are the main differences between lists and tuples in Python ?\n",
        "\n",
        "Ans . In Python, lists and tuples are both used to store collections of items, but they have fundamental differences in terms of mutability, performance, and use cases. Lists are mutable, meaning their elements can be modified, added, or removed after the list is created. This flexibility makes lists suitable for dynamic collections where frequent updates are needed. On the other hand, tuples are immutable, meaning their contents cannot be altered once they are created. If a tuple needs to be changed, a new tuple must be created. This immutability makes tuples more memory-efficient and slightly faster in operations compared to lists.\n",
        "\n",
        "Another key difference is their usage. Lists are generally used when the data is expected to change frequently, such as in scenarios involving appending, sorting, or removing elements. In contrast, tuples are preferred when the data should remain constant throughout the program, such as representing fixed collections or serving as keys in dictionaries (since tuples are hashable and lists are not). Additionally, tuples provide better read-only protection, making them ideal for data integrity. These differences highlight that while both lists and tuples can store heterogeneous data, their distinct properties make them suitable for different tasks in Python programming.\n",
        "\n",
        "\n",
        "\n",
        "\n",
        "\n",
        "\n",
        "\n",
        "\n",
        "4.Describe how dictionaries store data ?\n",
        "Ans. Dictionaries are used to store data values in key:value pairs.\n",
        "     A dictionary is a collection which is ordered*, changeable and do not allow duplicates.\n",
        "\n",
        "5.Why might you use a set instead of a list in Python ?\n",
        "\n",
        "Ans.a set is often preferred over a list when the primary requirement is to store unique items and efficiently check for membership (i.e., whether an item exists in the collection). Unlike lists, sets automatically eliminate duplicate values, ensuring each element is unique. Additionally, sets offer significantly faster membership testing (in operation) because they are implemented as hash tables, whereas lists require a linear search for each membership check. Sets are also useful for performing mathematical operations like union, intersection, and difference directly, which are not natively supported by lists. However, sets are unordered, meaning they do not maintain the order of insertion, which might not be suitable for all use cases. Therefore, if uniqueness, fast lookups, and mathematical set operations are priorities, sets are a more efficient and cleaner choice than lists\n",
        "\n",
        "6.What is a string in Python, and how is it different from a list ?\n",
        "\n",
        "Ans.A string is a sequence of characters between single or double quotes. A list is a sequence of items, where each item could be anything (an integer, a float, a string, etc).\n",
        "\n",
        "7.How do tuples ensure data integrity in Python ?\n",
        "\n",
        "Ans.Tuples ensure data integrity in Python through their immutability, which means that once a tuple is created, its elements cannot be modified, added, or removed.\n",
        "\n",
        "8.What is a hash table, and how does it relate to dictionaries in Python ?\n",
        "\n",
        "Ans.A hash table is a data structure that maps keys to values using a hash function. This function takes a key and converts it into an index, which is used to store the corresponding value in an array. Hash tables are designed for efficient data retrieval, allowing you to access a value in constant time (on average) regardless of the size of the data set.\n",
        "\n",
        "9.Can lists contain different data types in Python ?\n",
        "\n",
        "Ans. Yes, lists in Python can contain different data types. You can store integers, floats, strings, booleans, and even other lists within the same list.\n",
        "\n",
        "10.Explain why strings are immutable in Python ?\n",
        "\n",
        "Ans.Strings are immutable in Python for several reasons:\n",
        "\n",
        "Performance: Immutable objects can be optimized for memory usage and performance. Python can store strings efficiently because it knows their contents won't change.\n",
        "Security: Immutability prevents accidental modifications, which can lead to hard-to-debug errors. This is particularly important in multi-threaded environments where multiple threads might be accessing the same string.\n",
        "Hashing: Immutable objects can be easily hashed, which makes them suitable for use as keys in dictionaries. Hashing algorithms rely on the object's contents not changing.\n",
        "Simplicity: Immutability leads to a simpler mental model of how strings behave. You can always rely on a string's value remaining the same throughout its lifetime.\n",
        "\n",
        "11.What advantages do dictionaries offer over lists for certain tasks ?\n",
        "\n",
        "Ans.Dictionaries have several advantages over lists for certain tasks, including: Fast lookups: Dictionaries use a hash table to store key-value pairs, which makes them ideal for tasks that require frequent lookups or searches. Flexibility: Dictionaries can store any type of data as both the key and the value, making them well-suited to a wide range of tasks. Memory efficiency: Dictionaries only store the key-value pairs you need, so they can be used to store large amounts of data without taking up too much memory. Unique keys: Dictionaries do not allow duplicate keys, while lists can. Preferred for large amounts of data: Dictionaries are preferred when working with large amounts of data.\n",
        "\n",
        "12.Describe a scenario where using a tuple would be preferable over a list ?\n",
        "\n",
        "Ans.When are tuples preferred to lists in Python? In Python, tuples are generally preferred over lists in the following scenarios:\n",
        "\n",
        "Immutability: Tuples are immutable, meaning their contents cannot be changed after creation. This makes them suitable for representing fixed collections of items where you want to ensure that the data remains constant. For example, using a tuple to represent coordinates (x, y) ensures that these values cannot be altered accidentally. Performance: Tuples can be more memory-efficient and faster than lists for certain operations since they have a smaller memory overhead due to their immutability. If you need a collection of items that doesn’t change, using a tuple can lead to better performance. Hashability: Tuples can be used as keys in dictionaries or elements in sets because they are hashable (as long as their elements are hashable). Lists, on the other hand, cannot be used in these contexts due to their mutability..\n",
        "\n",
        "13.How do sets handle duplicate values in Python ?\n",
        "\n",
        "Ans.Sets in Python are designed to store unique values. When you add a duplicate value to a set, it will simply be ignored. No error is raised, and the set remains unchanged.\n",
        "\n",
        "14.How does the “in” keyword work differently for lists and dictionaries ?\n",
        "\n",
        "Ans.In Python, the in and not in operators test membership in lists, tuples, dictionaries, and so on.\n",
        "\n",
        "The in operator for dictionaries (dict) checks for the presence of a key.\n",
        "\n",
        "d = {'key1': 'value1', 'key2': 'value2', 'key3': 'value3'}\n",
        "\n",
        "print('key1' in d)\n",
        "\n",
        "True\n",
        "print('value1' in d)\n",
        "\n",
        "False\n",
        "a = [10, 20, 30, 40, 50]\n",
        "\n",
        "Check if 30 exists in the list\n",
        "if 30 in a: print(\"Element exists in the list\") else: print(\"Element does not exist\")\n",
        "\n",
        "The in operator for List checks for the presence of a elements.\n",
        "\n",
        "d = {'key1': 'value1', 'key2': 'value2', 'key3': 'value3'}\n",
        "\n",
        "print('key1' in d)\n",
        "\n",
        "True\n",
        "print('value1' in d)\n",
        "\n",
        "False\n",
        "15.Can you modify the elements of a tuple? Explain why or why not ?\n",
        "\n",
        "Ans.No, you cannot modify the elements of a tuple in Python because tuples are \"immutable,\" meaning once created, their elements cannot be changed, added, or removed; attempting to do so will result in a TypeError.\n",
        "\n",
        "16.What is a nested dictionary, and give an example of its use case ?\n",
        "\n",
        "Ans. A nested dictionary is a dictionary that contains other dictionaries, and is a useful way to model complex data in programs\n",
        "\n",
        "Use cases Nested dictionaries are useful for representing data with multiple layers of organization, such as employee records, inventory systems, and JSON data.\n",
        "\n",
        "17.Describe the time complexity of accessing elements in a dictionary.\n",
        "\n",
        "Ans.The dictionary try to access a value by calling the key value of that data. When it tries to access the value, it already knows the encryption process and algorithm of Key encryption, and simply finds it with Bigo of O(1) time. That's why it only takes O(1) time to access any element in the dictionary.\n",
        "\n",
        "18.In what situations are lists preferred over dictionaries ?\n",
        "\n",
        "Ans.For quick data look-ups, configurations, or caches, favor dictionaries. For ordered collections and sequence operations, such as maintaining a stack or queue, lists are more suitable.\n",
        "\n",
        "19.Why are dictionaries considered unordered, and how does that affect data retrieval ?\n",
        "\n",
        "Ans.A dictionary is termed an unordered collection of objects because dictionaries do not maintain any inherent order of the items based on when they were added. In older versions of Python (before 3.7), dictionaries did not preserve insertion order at all. This meant that when you accessed or printed the items, the order could vary, as dictionaries were optimized for fast lookups rather than maintaining order.\n",
        "\n",
        "20.Explain the difference between a list and a dictionary in terms of data retrieval.\n",
        "\n",
        "Ans.A list is an ordered collection of items, whereas a dictionary is an unordered data collection in a key: value pair. Elements from the list can be accessed using the index, while the elements of the dictionary can be accessed using keys."
      ],
      "metadata": {
        "id": "uK3L3izeyCBP"
      }
    },
    {
      "cell_type": "markdown",
      "source": [
        "#PRACTICAL QUESTIONS\n"
      ],
      "metadata": {
        "id": "T9IA_oa73D_K"
      }
    },
    {
      "cell_type": "code",
      "source": [
        "#1 Write a code to create a string with your name and print it ?\n",
        "print(\"VALLIGIRI CHATURYA\")"
      ],
      "metadata": {
        "colab": {
          "base_uri": "https://localhost:8080/"
        },
        "id": "tVjVUybD1N9R",
        "outputId": "20324b08-c00a-47f3-8260-14e7317c045a"
      },
      "execution_count": 1,
      "outputs": [
        {
          "output_type": "stream",
          "name": "stdout",
          "text": [
            "VALLIGIRI CHATURYA\n"
          ]
        }
      ]
    },
    {
      "cell_type": "code",
      "source": [
        "#2 Write a code to find the length of the string \"Hello World\"\n",
        "print(len(\"Hello World\"))"
      ],
      "metadata": {
        "colab": {
          "base_uri": "https://localhost:8080/"
        },
        "id": "dCbne0o_1dIS",
        "outputId": "7468f533-a071-4f75-943f-67de0f84c33c"
      },
      "execution_count": 2,
      "outputs": [
        {
          "output_type": "stream",
          "name": "stdout",
          "text": [
            "11\n"
          ]
        }
      ]
    },
    {
      "cell_type": "code",
      "source": [
        "#3 Write a code to slice the first 3 characters from the string \"Python Programming\"\n",
        "print(\"Python Programming\"[0:3])"
      ],
      "metadata": {
        "colab": {
          "base_uri": "https://localhost:8080/"
        },
        "id": "d5MY1Y5J1e5W",
        "outputId": "3529376f-dd4c-48ea-a6ae-40a3a2cc7df9"
      },
      "execution_count": 3,
      "outputs": [
        {
          "output_type": "stream",
          "name": "stdout",
          "text": [
            "Pyt\n"
          ]
        }
      ]
    },
    {
      "cell_type": "code",
      "source": [
        "#4 Write a code to convert the string \"hello\" to uppercase\n",
        "print(\"hello\".upper())"
      ],
      "metadata": {
        "colab": {
          "base_uri": "https://localhost:8080/"
        },
        "id": "4tQbbsfq1kaz",
        "outputId": "34a97067-e7c9-4ebe-e8a9-78cfc0357246"
      },
      "execution_count": 4,
      "outputs": [
        {
          "output_type": "stream",
          "name": "stdout",
          "text": [
            "HELLO\n"
          ]
        }
      ]
    },
    {
      "cell_type": "code",
      "source": [
        "#5 Write a code to replace the word \"apple\" with \"orange\" in the string \"I like apple\"E\n",
        "print(\"I like apple\".replace(\"apple\",\"orange\"))"
      ],
      "metadata": {
        "colab": {
          "base_uri": "https://localhost:8080/"
        },
        "id": "jBTqieww1pVU",
        "outputId": "8432861a-cf2f-4e99-c7aa-c7281188ce64"
      },
      "execution_count": 5,
      "outputs": [
        {
          "output_type": "stream",
          "name": "stdout",
          "text": [
            "I like orange\n"
          ]
        }
      ]
    },
    {
      "cell_type": "code",
      "source": [
        "#6 Write a code to create a list with numbers 1 to 5 and print it\n",
        "print([1,2,3,4,5])"
      ],
      "metadata": {
        "colab": {
          "base_uri": "https://localhost:8080/"
        },
        "id": "ud2hYBTO1tyv",
        "outputId": "570f4229-2367-48f6-e81c-c93fd9b6b60e"
      },
      "execution_count": 6,
      "outputs": [
        {
          "output_type": "stream",
          "name": "stdout",
          "text": [
            "[1, 2, 3, 4, 5]\n"
          ]
        }
      ]
    },
    {
      "cell_type": "code",
      "source": [
        "#7 Write a code to append the number 10 to the list [1, 2, 3, 4]\n",
        "print([1,2,3,4]+[10])\n"
      ],
      "metadata": {
        "colab": {
          "base_uri": "https://localhost:8080/"
        },
        "id": "4qRErioH10Vh",
        "outputId": "42370af6-e19d-4018-b490-91dcf9aeaa48"
      },
      "execution_count": 7,
      "outputs": [
        {
          "output_type": "stream",
          "name": "stdout",
          "text": [
            "[1, 2, 3, 4, 10]\n"
          ]
        }
      ]
    },
    {
      "cell_type": "code",
      "source": [
        "#8 Write a code to remove the number 3 from the list [1, 2, 3, 4, 5]\n",
        "print([1,2,3,4,5].remove(3))"
      ],
      "metadata": {
        "colab": {
          "base_uri": "https://localhost:8080/"
        },
        "id": "vkVGyPQ113ue",
        "outputId": "14534e4d-a8d9-4c42-931e-7cd1e8e3c8ea"
      },
      "execution_count": 8,
      "outputs": [
        {
          "output_type": "stream",
          "name": "stdout",
          "text": [
            "None\n"
          ]
        }
      ]
    },
    {
      "cell_type": "code",
      "source": [
        "#9 Write a code to access the second element in the list ['a', 'b', 'c', 'd']\n",
        "print(['a', 'b', 'c', 'd'][1])\n"
      ],
      "metadata": {
        "colab": {
          "base_uri": "https://localhost:8080/"
        },
        "id": "_pA9Q2uY1_LN",
        "outputId": "2d4c1225-7afd-465a-ab06-80f1309363ce"
      },
      "execution_count": 10,
      "outputs": [
        {
          "output_type": "stream",
          "name": "stdout",
          "text": [
            "b\n"
          ]
        }
      ]
    },
    {
      "cell_type": "code",
      "source": [
        "#10 Write a code to reverse the list [10, 20, 30, 40, 50]\n",
        "print([10, 20, 30, 40, 50][::-1])"
      ],
      "metadata": {
        "colab": {
          "base_uri": "https://localhost:8080/"
        },
        "id": "iouG4Bvp2DNS",
        "outputId": "479856aa-87cd-4823-d0a6-849c2c823acd"
      },
      "execution_count": 11,
      "outputs": [
        {
          "output_type": "stream",
          "name": "stdout",
          "text": [
            "[50, 40, 30, 20, 10]\n"
          ]
        }
      ]
    },
    {
      "cell_type": "code",
      "source": [
        "#11 Write a code to create a tuple with the elements 10, 20, 30 and print it\n",
        "print((10,20,30))"
      ],
      "metadata": {
        "colab": {
          "base_uri": "https://localhost:8080/"
        },
        "id": "cWd_W6vG2K4Q",
        "outputId": "ac3f4568-c116-4e9e-b5d3-ab3f16ec51f5"
      },
      "execution_count": 12,
      "outputs": [
        {
          "output_type": "stream",
          "name": "stdout",
          "text": [
            "(10, 20, 30)\n"
          ]
        }
      ]
    },
    {
      "cell_type": "code",
      "source": [
        "#12 Write a code to access the first element of the tuple ('apple', 'banana', 'cherry')\n",
        "print(('apple', 'banana', 'cherry')[0])"
      ],
      "metadata": {
        "colab": {
          "base_uri": "https://localhost:8080/"
        },
        "id": "S2pyjNbk2N-_",
        "outputId": "8d976907-8a25-4a5c-fa97-995f7920fc8b"
      },
      "execution_count": 13,
      "outputs": [
        {
          "output_type": "stream",
          "name": "stdout",
          "text": [
            "apple\n"
          ]
        }
      ]
    },
    {
      "cell_type": "code",
      "source": [
        "#13 Write a code to count how many times the number 2 appears in the tuple (1, 2, 3, 2, 4, 2)\n",
        "print((1, 2, 3, 2, 4, 2).count(2))"
      ],
      "metadata": {
        "colab": {
          "base_uri": "https://localhost:8080/"
        },
        "id": "6KEDtt7E2SI0",
        "outputId": "85611802-c9b5-48c6-db57-579a670b4b67"
      },
      "execution_count": 14,
      "outputs": [
        {
          "output_type": "stream",
          "name": "stdout",
          "text": [
            "3\n"
          ]
        }
      ]
    },
    {
      "cell_type": "code",
      "source": [
        "#14 Write a code to find the index of the element \"cat\" in the tuple ('dog', 'cat', 'rabbit')\n",
        "print(('dog', 'cat', 'rabbit').index('cat'))"
      ],
      "metadata": {
        "colab": {
          "base_uri": "https://localhost:8080/"
        },
        "id": "RDQENvsL2Vwv",
        "outputId": "31552df5-bd74-4f8a-f8ae-0609c43a270b"
      },
      "execution_count": 15,
      "outputs": [
        {
          "output_type": "stream",
          "name": "stdout",
          "text": [
            "1\n"
          ]
        }
      ]
    },
    {
      "cell_type": "code",
      "source": [
        "#15 Write a code to check if the element \"banana\" is in the tuple ('apple', 'orange', 'banana')\n",
        "print('banana' in ('apple', 'orange', 'banana'))\n",
        "\n"
      ],
      "metadata": {
        "colab": {
          "base_uri": "https://localhost:8080/"
        },
        "id": "A3OIQAS_2Za_",
        "outputId": "6671a8a6-e900-4903-86ec-e60cb4f8064a"
      },
      "execution_count": 16,
      "outputs": [
        {
          "output_type": "stream",
          "name": "stdout",
          "text": [
            "True\n"
          ]
        }
      ]
    },
    {
      "cell_type": "code",
      "source": [
        "#16 Write a code to create a set with the elements 1, 2, 3, 4, 5 and print it\n",
        "print({1,2,3,4,5})"
      ],
      "metadata": {
        "colab": {
          "base_uri": "https://localhost:8080/"
        },
        "id": "M14vcK-d2fGF",
        "outputId": "12a2d2d8-e01f-4354-f5e6-90f94a846201"
      },
      "execution_count": 17,
      "outputs": [
        {
          "output_type": "stream",
          "name": "stdout",
          "text": [
            "{1, 2, 3, 4, 5}\n"
          ]
        }
      ]
    },
    {
      "cell_type": "code",
      "source": [
        "#17 Write a code to add the element 6 to the set {1, 2, 3, 4}\n",
        "print({1, 2, 3, 4}|{6})"
      ],
      "metadata": {
        "colab": {
          "base_uri": "https://localhost:8080/"
        },
        "id": "pCw_MH3e2j3z",
        "outputId": "cb9ef928-86d7-4a28-bba8-ded41f1315e7"
      },
      "execution_count": 18,
      "outputs": [
        {
          "output_type": "stream",
          "name": "stdout",
          "text": [
            "{1, 2, 3, 4, 6}\n"
          ]
        }
      ]
    },
    {
      "cell_type": "code",
      "source": [
        "#18 Write a code to create a tuple with the elements 10, 20, 30 and print it.\n",
        "print((10,20,30))"
      ],
      "metadata": {
        "colab": {
          "base_uri": "https://localhost:8080/"
        },
        "id": "ShmEGoxA2n5Z",
        "outputId": "33bb504b-7ffe-4930-8721-86596cc8e2b6"
      },
      "execution_count": 19,
      "outputs": [
        {
          "output_type": "stream",
          "name": "stdout",
          "text": [
            "(10, 20, 30)\n"
          ]
        }
      ]
    },
    {
      "cell_type": "code",
      "source": [
        "#19 Write a code to access the first element of the tuple ('apple', 'banana', 'cherry')\n",
        "print(('apple', 'banana', 'cherry')[0])"
      ],
      "metadata": {
        "colab": {
          "base_uri": "https://localhost:8080/"
        },
        "id": "ivo_KDDZ2sFt",
        "outputId": "544b88c7-a448-4aa5-ca10-1bf7f4206153"
      },
      "execution_count": 20,
      "outputs": [
        {
          "output_type": "stream",
          "name": "stdout",
          "text": [
            "apple\n"
          ]
        }
      ]
    },
    {
      "cell_type": "code",
      "source": [
        "#20 Write a code to count how many times the number 2 appears in the tuple (1, 2, 3, 2, 4, 2)\n",
        "print((1, 2, 3, 2, 4, 2).count(2))"
      ],
      "metadata": {
        "colab": {
          "base_uri": "https://localhost:8080/"
        },
        "id": "Yal3a-aH2wDj",
        "outputId": "296203ef-2b94-4e8c-9fa7-9d38758d41b7"
      },
      "execution_count": 21,
      "outputs": [
        {
          "output_type": "stream",
          "name": "stdout",
          "text": [
            "3\n"
          ]
        }
      ]
    },
    {
      "cell_type": "code",
      "source": [
        "#21 Write a code to find the index of the element \"cat\" in the tuple ('dog', 'cat', 'rabbit').\n",
        "print(('dog', 'cat', 'rabbit').index('cat'))"
      ],
      "metadata": {
        "colab": {
          "base_uri": "https://localhost:8080/"
        },
        "id": "6HeZCW7P20j3",
        "outputId": "2e915d75-5506-4723-a321-b3b70195ca08"
      },
      "execution_count": 22,
      "outputs": [
        {
          "output_type": "stream",
          "name": "stdout",
          "text": [
            "1\n"
          ]
        }
      ]
    },
    {
      "cell_type": "code",
      "source": [
        "#22 Write a code to check if the element \"banana\" is in the tuple ('apple', 'orange', 'banana').\n",
        "print('banana' in ('apple', 'orange', 'banana'))"
      ],
      "metadata": {
        "colab": {
          "base_uri": "https://localhost:8080/"
        },
        "id": "oTQbhfa824ll",
        "outputId": "43ca0887-ce3d-44b8-f0f9-581c8983affa"
      },
      "execution_count": 23,
      "outputs": [
        {
          "output_type": "stream",
          "name": "stdout",
          "text": [
            "True\n"
          ]
        }
      ]
    },
    {
      "cell_type": "code",
      "source": [
        "#23 Write a code to create a set with the elements 1, 2, 3, 4, 5 and print it.\n",
        "print({1,2,3,4,5})"
      ],
      "metadata": {
        "colab": {
          "base_uri": "https://localhost:8080/"
        },
        "id": "271eleHJ27oJ",
        "outputId": "4b2bb51f-7e3c-4721-bbb5-6814c1eef727"
      },
      "execution_count": 24,
      "outputs": [
        {
          "output_type": "stream",
          "name": "stdout",
          "text": [
            "{1, 2, 3, 4, 5}\n"
          ]
        }
      ]
    },
    {
      "cell_type": "code",
      "source": [
        "#24 Write a code to add the element 6 to the set {1, 2, 3, 4}\n",
        "print({1, 2, 3, 4}|{6})"
      ],
      "metadata": {
        "colab": {
          "base_uri": "https://localhost:8080/"
        },
        "id": "Te7l_2SX2-mB",
        "outputId": "453013c6-00a2-45d3-804e-d2969f786b57"
      },
      "execution_count": 25,
      "outputs": [
        {
          "output_type": "stream",
          "name": "stdout",
          "text": [
            "{1, 2, 3, 4, 6}\n"
          ]
        }
      ]
    },
    {
      "cell_type": "code",
      "source": [],
      "metadata": {
        "id": "d9zoKUMW3BnU"
      },
      "execution_count": null,
      "outputs": []
    }
  ]
}